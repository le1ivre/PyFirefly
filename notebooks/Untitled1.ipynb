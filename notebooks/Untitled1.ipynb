{
 "cells": [
  {
   "cell_type": "code",
   "execution_count": 1,
   "metadata": {},
   "outputs": [
    {
     "name": "stdout",
     "output_type": "stream",
     "text": [
      "Pixiedust database opened successfully\n"
     ]
    },
    {
     "data": {
      "text/html": [
       "\n",
       "        <div style=\"margin:10px\">\n",
       "            <a href=\"https://github.com/ibm-watson-data-lab/pixiedust\" target=\"_new\">\n",
       "                <img src=\"https://github.com/ibm-watson-data-lab/pixiedust/raw/master/docs/_static/pd_icon32.png\" style=\"float:left;margin-right:10px\"/>\n",
       "            </a>\n",
       "            <span>Pixiedust version 1.1.11</span>\n",
       "        </div>\n",
       "        "
      ],
      "text/plain": [
       "<IPython.core.display.HTML object>"
      ]
     },
     "metadata": {},
     "output_type": "display_data"
    }
   ],
   "source": [
    "import pixiedust\n",
    "from pyfirefly import Firefly as fire\n",
    "import os\n",
    "import importlib as imp\n",
    "import numpy as np\n",
    "\n",
    "import pubchempy as pcp\n",
    "from rdkit import Chem\n",
    "from rdkit.Chem import AllChem\n",
    "from rdkit.Chem import Draw\n",
    "import nglview as ng"
   ]
  },
  {
   "cell_type": "code",
   "execution_count": 2,
   "metadata": {},
   "outputs": [],
   "source": [
    "grads = \"\"\"\n",
    "                                 GRADIENT (HARTREE/BOHR)\n",
    "                                 -----------------------\n",
    "        ATOM     ZNUC       DE/DX         DE/DY         DE/DZ\n",
    " --------------------------------------------------------------\n",
    "  1  CARBON\t  6.0    -0.0027683     0.0001565     0.0011635\n",
    "  2  CARBON\t  6.0     0.0029300     0.0003457    -0.0014212\n",
    "  3  CARBON\t  6.0    -0.0012380    -0.0010740    -0.0028032\n",
    "  4  HYDROGEN     1.0     0.0005038     0.0011910    -0.0001542\n",
    "  5  HYDROGEN     1.0     0.0000003    -0.0005554    -0.0000796\n",
    "  6  CARBON\t  6.0     0.0031935     0.0023663     0.0027226\n",
    "  7  CARBON       6.0     0.0028612     0.0018941     0.0051980\n",
    "  8  HYDROGEN     1.0    -0.0007798    -0.0010152    -0.0004243\n",
    "  9  CARBON       6.0    -0.0015387    -0.0018414    -0.0064555\n",
    " 10  HYDROGEN     1.0     0.0004127    -0.0000162     0.0028433\n",
    " 11  HYDROGEN     1.0    -0.0006903    -0.0004186     0.0004552\n",
    " 12  NITROGEN     7.0    -0.0000161    -0.0012475    -0.0003315\n",
    " 13  HYDROGEN     1.0     0.0033031     0.0003793    -0.0031796\n",
    " 14  HYDROGEN     1.0    -0.0010434   | -0.0024103    -0.0012234\n",
    " 15  OXYGEN\t  8.0    -0.0938356    -0.0221477     0.0109422\n",
    " 16  HYDROGEN     1.0    -0.0070337    -0.0001263     0.0099447\n",
    " 17  HYDROGEN     1.0    -0.0062162     0.0001601     0.0036048\n",
    " 18  NITROGEN     7.0    -0.0150606    -0.0045209     0.0029798\n",
    " 19  OXYGEN\t  8.0     0.0060701     0.0051000     0.0116852\n",
    " 20  OXYGEN\t  8.0     0.0883429     0.0196548    -0.0185480\n",
    " 21  HYDROGEN     1.0     0.0137328     0.0030723    -0.0039479\n",
    " 22  HYDROGEN     1.0     0.0088705     0.0010537    -0.0129707\n",
    "       NSERCH=138     ENERGY=    -570.1773881\n",
    "\n",
    "                                 -----------------------\n",
    "                                 GRADIENT (HARTREE/BOHR)\n",
    "                                 -----------------------\n",
    "        ATOM     ZNUC       DE/DX         DE/DY         DE/DZ\n",
    " --------------------------------------------------------------\n",
    "  1  CARBON       6.0     0.0000443    -0.0000421    -0.0002014\n",
    "  2  CARBON       6.0    -0.0001020    -0.0001267     0.0000503\n",
    "  3  CARBON       6.0    -0.0000736     0.0001979    -0.0001125\n",
    "  4  HYDROGEN     1.0     0.0002262    -0.0000576    -0.0001021\n",
    "  5  HYDROGEN     1.0    -0.0000216     0.0001568     0.0000571\n",
    "  6  CARBON       6.0    -0.0000350    -0.0000680    -0.0002023\n",
    "  7  CARBON       6.0    -0.0000480    -0.0000739    -0.0000286\n",
    "  8  HYDROGEN     1.0     0.0000765     0.0001248    -0.0000531\n",
    "  9  CARBON       6.0     0.0000156    -0.0001756     0.0001655\n",
    " 10  HYDROGEN     1.0    -0.0001255    -0.0002046     0.0000426\n",
    " 11  HYDROGEN     1.0     0.0001517    -0.0001039     0.0001038\n",
    " 12  NITROGEN     7.0    -0.0000019     0.0001212    -0.0000530\n",
    " 13  HYDROGEN     1.0     0.0000617     0.0000525     0.0001033\n",
    " 14  HYDROGEN     1.0    -0.0001084     0.0000765     0.0000682\n",
    " 15  OXYGEN       8.0    -0.0006441     0.0000038     0.0007325\n",
    " 16  HYDROGEN     1.0     0.0006239     0.0002128    -0.0003967\n",
    " 17  HYDROGEN     1.0     0.0000839    -0.0002612    -0.0002114\n",
    " 18  NITROGEN     7.0     0.0002066     0.0001330     0.0001466\n",
    " 19  OXYGEN       8.0    -0.0003244    -0.0001078     0.0000614\n",
    " 20  OXYGEN       8.0     0.0002929     0.0008972    -0.0009970\n",
    " 21  HYDROGEN     1.0     0.0002611    -0.0013665     0.0004989\n",
    " 22  HYDROGEN     1.0    -0.0005599     0.0006113     0.0003280\n",
    "\n",
    "          MAXIMUM GRADIENT =  0.0013665    RMS GRADIENT = 0.0003315\n",
    "          HESSIAN UPDATED USING THE BFGS FORMULA\n",
    "             ACTUAL ENERGY CHANGE WAS  -0.0000044239\n",
    "          PREDICTED ENERGY CHANGE WAS  -0.0000067410 RATIO=  0.656\n",
    "            GDIIS STEP HAS LENGTH         =   0.029887\n",
    "          RADIUS OF STEP TAKEN=   0.02989  CURRENT TRUST RADIUS=   0.50000\n",
    "\"\"\""
   ]
  },
  {
   "cell_type": "code",
   "execution_count": 4,
   "metadata": {
    "pixiedust": {
     "displayParams": {}
    }
   },
   "outputs": [
    {
     "data": {
      "text/html": [
       "<style type=\"text/css\">.pd_warning{display:none;}</style><div class=\"pd_warning\"><em>Hey, there's something awesome here! To see it, open this notebook outside GitHub, in a viewer like Jupyter</em></div>"
      ],
      "text/plain": [
       "<IPython.core.display.HTML object>"
      ]
     },
     "metadata": {
      "pixieapp_metadata": null
     },
     "output_type": "display_data"
    }
   ],
   "source": [
    "%%pixie_debugger\n",
    "from cclib.parser import utils\n",
    "\n",
    "line = iter(grads.splitlines())\n",
    "item = next(line)\n",
    "temp = item.strip().split()\n",
    "n = 0\n",
    "while True:\n",
    "    if item == \"                                 GRADIENT (HARTREE/BOHR)\":\n",
    "        \n",
    "        n += 1\n",
    "        \n",
    "        while len(t) != 6:\n",
    "            item = next(line)\n",
    "            temp = item.strip().split()\n",
    "            \n",
    "        if n == 1:    \n",
    "            while len(t) == 6:\n",
    "                if t[0] == \"1\":\n",
    "                    atomgrads = np.asarray([[[utils.convertor(float(x), \"Angstrom\", \"bohr\") for x in t[3:6]]]])\n",
    "                    item = next(line)\n",
    "                    temp = item.strip().split()\n",
    "                \n",
    "                else:\n",
    "                    atomgrads = np.append(atomgrads1, np.asarray([[[utils.convertor(float(x), \"Angstrom\", \"bohr\") for x in t[3:6]]]]), axis = 1)\n",
    "                    item = next(line)\n",
    "                    temp = item.strip().split()\n",
    "                    \n",
    "        else:\n",
    "            while len(t) == 6:\n",
    "                if t[0] == \"1\":\n",
    "                    atomgrads1 = np.asarray([[[utils.convertor(float(x), \"Angstrom\", \"bohr\") for x in t[3:6]]]])\n",
    "                    item = next(line)\n",
    "                    temp = item.strip().split()\n",
    "                \n",
    "                else:\n",
    "                    atomgrads1 = np.append(atomgrads1, np.asarray([[[utils.convertor(float(x), \"Angstrom\", \"bohr\") for x in t[3:6]]]]), axis = 1)\n",
    "                    item = next(line)\n",
    "                    temp = item.strip().split()\n",
    "                \n",
    "                atomgrads = np.append(atomgrads, atomgrads1, asix = 2)      \n",
    "   \n",
    "        \n",
    "    else:\n",
    "        try:\n",
    "            item = next(line)\n",
    "        except StopIteration:\n",
    "            break\n",
    "            print(atomgrads)            "
   ]
  },
  {
   "cell_type": "code",
   "execution_count": null,
   "metadata": {
    "pixiedust": {
     "displayParams": {}
    }
   },
   "outputs": [],
   "source": [
    "atomgrads = np.empty(shape=(1,1,3))\n",
    "a = np.asarray([[[1, 2, 3]]])\n",
    "\n"
   ]
  },
  {
   "cell_type": "code",
   "execution_count": null,
   "metadata": {},
   "outputs": [],
   "source": [
    "np.append(atomgrads, a, axis=1)"
   ]
  },
  {
   "cell_type": "code",
   "execution_count": null,
   "metadata": {},
   "outputs": [],
   "source": [
    "a = \"1  CARBON       6.0     0.0000443    -0.0000421    -0.0002014\""
   ]
  },
  {
   "cell_type": "code",
   "execution_count": null,
   "metadata": {},
   "outputs": [],
   "source": [
    "atomgrads = np.asarray([[[utils.convertor(float(x), \"Angstrom\", \"bohr\") for x in a.strip().split()]]])"
   ]
  },
  {
   "cell_type": "code",
   "execution_count": null,
   "metadata": {},
   "outputs": [],
   "source": []
  }
 ],
 "metadata": {
  "kernelspec": {
   "display_name": "Python 3",
   "language": "python",
   "name": "python3"
  },
  "language_info": {
   "codemirror_mode": {
    "name": "ipython",
    "version": 3
   },
   "file_extension": ".py",
   "mimetype": "text/x-python",
   "name": "python",
   "nbconvert_exporter": "python",
   "pygments_lexer": "ipython3",
   "version": "3.6.4"
  }
 },
 "nbformat": 4,
 "nbformat_minor": 2
}
