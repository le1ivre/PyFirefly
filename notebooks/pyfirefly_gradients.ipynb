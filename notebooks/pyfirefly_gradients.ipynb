{
 "cells": [
  {
   "cell_type": "code",
   "execution_count": 1,
   "metadata": {},
   "outputs": [
    {
     "name": "stdout",
     "output_type": "stream",
     "text": [
      "Pixiedust database opened successfully\n"
     ]
    },
    {
     "data": {
      "text/html": [
       "\n",
       "        <div style=\"margin:10px\">\n",
       "            <a href=\"https://github.com/ibm-watson-data-lab/pixiedust\" target=\"_new\">\n",
       "                <img src=\"https://github.com/ibm-watson-data-lab/pixiedust/raw/master/docs/_static/pd_icon32.png\" style=\"float:left;margin-right:10px\"/>\n",
       "            </a>\n",
       "            <span>Pixiedust version 1.1.11</span>\n",
       "        </div>\n",
       "        "
      ],
      "text/plain": [
       "<IPython.core.display.HTML object>"
      ]
     },
     "metadata": {},
     "output_type": "display_data"
    }
   ],
   "source": [
    "import pixiedust\n",
    "import cclib\n",
    "import pyfirefly\n",
    "from rdkit import Chem\n",
    "from rdkit.Chem import AllChem\n",
    "from rdkit.Chem import Draw\n",
    "import os\n",
    "from ase import Atoms\n",
    "from ase.io import *\n",
    "from ase.optimize import BFGS\n",
    "import ase.calculators.firefly as firefly\n",
    "from ase.io.trajectory import Trajectory\n",
    "import numpy as np\n",
    "import nglview as ng\n",
    "import pybel as pb\n",
    "import importlib as imp"
   ]
  },
  {
   "cell_type": "code",
   "execution_count": 2,
   "metadata": {},
   "outputs": [],
   "source": [
    "os.chdir(\"/home/akniga/NEB\")\n",
    "atoms = firefly.xyz_to_atoms(\"Ae_1.xyz\")\n",
    "view_1 = ng.show_ase(atoms)\n",
    "mol = firefly.ase_atoms_to_rdkit_molecule(atoms)"
   ]
  },
  {
   "cell_type": "code",
   "execution_count": 3,
   "metadata": {
    "pixiedust": {
     "displayParams": {}
    },
    "scrolled": true
   },
   "outputs": [
    {
     "name": "stdout",
     "output_type": "stream",
     "text": [
      "Total Energy = -11353.661405401508\n",
      "/tmp/tmp7b5dejw2\n"
     ]
    },
    {
     "data": {
      "text/plain": [
       "<rdkit.Chem.rdchem.Mol at 0x7ff88ce8f6c0>"
      ]
     },
     "execution_count": 3,
     "metadata": {},
     "output_type": "execute_result"
    }
   ],
   "source": [
    "#%%pixie_debugger\n",
    "key = {\"ICHARG\":\"1\",\"MULT\":\"1\"}\n",
    "c = pyfirefly.Firefly(ase=True, debug=True, **key)\n",
    "c.run(mol)"
   ]
  },
  {
   "cell_type": "code",
   "execution_count": 4,
   "metadata": {},
   "outputs": [
    {
     "name": "stdout",
     "output_type": "stream",
     "text": [
      " $contrl DFTTYP=B3LYP MAXIT=200 ICHARG=1 MULT=1\n",
      " RUNTYP=GRADIENT SCFTYP=RHF $end\n",
      " $basis GBASIS=N31 NGAUSS=6\n",
      " NDFUNC=1 $end\n",
      " $system MWORDS=30 $end\n",
      " $scf DIIS=.T. SOSCF=.f.\n",
      " DIRSCF=.f. $end\n"
     ]
    }
   ],
   "source": [
    "print(c.print_header())"
   ]
  },
  {
   "cell_type": "code",
   "execution_count": null,
   "metadata": {},
   "outputs": [],
   "source": [
    "import textwrap"
   ]
  },
  {
   "cell_type": "code",
   "execution_count": null,
   "metadata": {},
   "outputs": [],
   "source": [
    "s = '$contrl DFTTYP=B3LYP MAXIT=200 ICHARG=1 MULT=1\\nRUNTYP=GRADIENT SCFTYP=RHF/ $end  $basis GBASIS=N31 NGAUSS=6\\nNDFUNC=1 $end  $system MWORDS=30 $end  $scf DIIS=.T.\\nSOSCF=.f. DIRSCF=.f. $end'"
   ]
  },
  {
   "cell_type": "code",
   "execution_count": null,
   "metadata": {},
   "outputs": [],
   "source": [
    "\n",
    "print(textwrap.indent(textwrap.fill(s, 60, replace_whitespace=False), prefix=\" \"))"
   ]
  },
  {
   "cell_type": "code",
   "execution_count": null,
   "metadata": {},
   "outputs": [],
   "source": [
    "com = \"{0} -prealloc:485 -r -f -p -p4pg {1}/procgrp -ex {1} -i {2} -o {3} -t {4}/{5} -b {1}/{6}.lib\".format(c.firefly, str(c.firefly_path), str(c.firein), str(c.fireout), c.tempdir, c.jobname, c.extfil)\n",
    "com"
   ]
  },
  {
   "cell_type": "code",
   "execution_count": null,
   "metadata": {},
   "outputs": [],
   "source": [
    "imp.reload(pyfirefly)"
   ]
  },
  {
   "cell_type": "code",
   "execution_count": null,
   "metadata": {},
   "outputs": [],
   "source": [
    "os.chdir(\"/home/akniga/firefly\")\n",
    "imp.reload(pyfirefly)\n",
    "os.chdir(\"/home/akniga/NEB\")"
   ]
  },
  {
   "cell_type": "code",
   "execution_count": null,
   "metadata": {},
   "outputs": [],
   "source": [
    "atoms.set_calculator(c)\n",
    "dyn = BFGS(atoms=atoms, trajectory = \"_1.traj\")"
   ]
  },
  {
   "cell_type": "code",
   "execution_count": null,
   "metadata": {},
   "outputs": [],
   "source": [
    "\n",
    "dyn.run(fmax=0.0001)"
   ]
  },
  {
   "cell_type": "code",
   "execution_count": null,
   "metadata": {},
   "outputs": [],
   "source": [
    "c.energy"
   ]
  },
  {
   "cell_type": "code",
   "execution_count": null,
   "metadata": {},
   "outputs": [],
   "source": [
    "a = firefly.ase_atoms_to_rdkit_molecule(atoms, mol)\n",
    "c.fire.jobname = \"trial\"\n",
    "c.fire.input(a)"
   ]
  },
  {
   "cell_type": "code",
   "execution_count": null,
   "metadata": {},
   "outputs": [],
   "source": [
    "c??"
   ]
  },
  {
   "cell_type": "code",
   "execution_count": null,
   "metadata": {},
   "outputs": [],
   "source": []
  },
  {
   "cell_type": "code",
   "execution_count": null,
   "metadata": {},
   "outputs": [],
   "source": [
    "import nglview as ng\n",
    "from ase.io.trajectory import Trajectory\n",
    "traj = Trajectory('opt_init.traj')\n",
    "atoms = traj[-1]\n",
    "view = ng.show_asetraj(traj)\n",
    "view "
   ]
  },
  {
   "cell_type": "code",
   "execution_count": null,
   "metadata": {},
   "outputs": [],
   "source": [
    "write('Ae_1.xyz',atoms, \"xyz\")"
   ]
  },
  {
   "cell_type": "code",
   "execution_count": null,
   "metadata": {},
   "outputs": [],
   "source": [
    "with open(\"opt.xyz\", \"r\") as r:\n",
    "    for line in r:\n",
    "        if len(line.split()) == 7:\n",
    "            print(line.split()[0:4])"
   ]
  },
  {
   "cell_type": "code",
   "execution_count": null,
   "metadata": {},
   "outputs": [],
   "source": [
    "firefly??"
   ]
  },
  {
   "cell_type": "code",
   "execution_count": null,
   "metadata": {},
   "outputs": [],
   "source": [
    "contrl = {'SCFTYP': 'RHF', 'runtyp': 'energy', 'icharg': '0', 'mult': '1', 'dfttyp': 'b3lyp'}"
   ]
  },
  {
   "cell_type": "code",
   "execution_count": null,
   "metadata": {},
   "outputs": [],
   "source": []
  },
  {
   "cell_type": "code",
   "execution_count": null,
   "metadata": {},
   "outputs": [],
   "source": [
    "contrl.update({k.upper(): v.upper() for k, v in contrl.items()})"
   ]
  },
  {
   "cell_type": "code",
   "execution_count": null,
   "metadata": {},
   "outputs": [],
   "source": [
    "f.contrl"
   ]
  },
  {
   "cell_type": "code",
   "execution_count": null,
   "metadata": {},
   "outputs": [],
   "source": [
    "basis =  {'mwords': '30'}"
   ]
  },
  {
   "cell_type": "code",
   "execution_count": null,
   "metadata": {},
   "outputs": [],
   "source": [
    "d = ({k.upper(): v.upper() for k, v in basis.items()})"
   ]
  },
  {
   "cell_type": "code",
   "execution_count": null,
   "metadata": {},
   "outputs": [],
   "source": [
    "d"
   ]
  },
  {
   "cell_type": "code",
   "execution_count": null,
   "metadata": {},
   "outputs": [],
   "source": [
    "        contrl = [\"SCFTYP\",\"RUNTYP\",\"MPLEVL\",\"CITYP\",\"DFTTYP\",\"DFTD\",\"DFTNL\",\"NUMDER\",\n",
    "                    \"EXETYP\",\"MAXIT\",\"ICHARG\",\"MULT\",\"ECP\",\"OLDECP\",\"ICHECP\",\"COORD\",\n",
    "                    \"UNITS\",\"NZVAR\",\"LOCAL\",\"D5\",\"MOLPLT\",\"PLTORB\",\"AIMPAC\",\"RPAC\",\n",
    "                     \"FRIEND\",\"NPRINT\",\"NOSYM\",\"INTTYP\",\"FSTINT\",\"REORDR\",\"GENCON\",\n",
    "                     \"NORMF\",\"NORMP\",\"ICUT\",\"ITOL\",\"LEXCUT\",\"HPGRAD\",\"WIDE\",\"IREST\",\"GEOM\",\n",
    "                    \"NOSO\"]\n",
    "        basis = [\"GBASIS\",\"NGAUSS\",\"NDFUNC\",\"NFFUNC\",\"NPFUNC\",\"DIFFSP\",\"DIFFS\",\"ELNEG\",\n",
    "                   \"POLAR\",\"SPLIT2\",\"SPLIT3\",\"EXTFIL\"]\n",
    "        statpt = [\"METHOD\",\"OPTTOL\",\"NSTEP\",\"NOREG\",\"IFREEZ\",\"DXMAX\",\"TRUPD\",\"TRMAX\",\n",
    "                    \"TRMIN\",\"IFOLOW\",\"STPT\",\"STSTEP\",\"HESS\",\"IHREP\",\"UPHESS\",\"HSSEND\",\n",
    "                     \"HUPTOL\",\"NPRT\",\"NPUN\",\"IDUMP\",\"IREST\",\"RESTAR\",\"MAXDII\",\"NSKIP\",\n",
    "                     \"KEEPHS\",\"REGTOL\",\"NODIAG\",\"MIXED\",\"NOGDUP\",\"FLAGS\",\"MSONLY\",\"NNEG\",\n",
    "                    \"RMIN\",\"RMAX\",\"RLIM\",\"PURIFY\",\"PROJCT\",\"ITBMAT\",\"CNSTOL\",\"FMAXT\",\n",
    "                     \"MOVIE\"]\n",
    "        system = [\"TIMLIM\",\"MWORDS\",\"MEMORY\",\"SAFMEM\",\"MASMEM\",\"SHMEM\",\"WSCTL\",\"MAXWS\",\n",
    "                     \"DECOMM\",\"IDLE\",\"BLKSIZ\",\"LDAR\",\"NODEL\",\"FASTF\",\"TRUNCF\",\"FLUSH\",\n",
    "                     \"ASYNC\",\"AIOBUF\",\"AIOPTY\",\"SPLITF\",\"VOLSIZ\",\"MXIOB\",\"MEMF\",\"FRESHF\",\n",
    "                     \"NOSEOF\",\"MEMCPY\",\"IOFLGS\",\"IORTRY\",\"MXBCST\",\"MPISNC\",\"MXBNUM\",\n",
    "                     \"LENSNC\",\"AOINTS\",\"MKLNP\",\"MKLAFF\",\"XPBIND\",\"MKLSMP\",\"BLAS3\",\"NP\",\n",
    "                    \"KDIAG\",\"NOJAC\",\"L2SIZE\",\"FPECHK\"]\n",
    "        scf = [\"DIRSCF\",\"FDIFF\",\"FDCTRL\",\"XFDIFF\",\"XFDNR\",\"UHFNOS\",\"MVOQ\",\"NPUNCH\",\n",
    "                  \"JKMAT\",\"NCONV\",\"ENGTHR\",\"DIITHR\",\"SOGTHR\",\"DENTOL\",\"DIIS\",\"SOSCF\",\n",
    "                  \"EXTRAP\",\"DAMP\",\"SHIFT\",\"FSHIFT\",\"RSTRCT\",\"DEM\",\"FSTDII\",\"ETHRSH\",\n",
    "                  \"MAXDII\",\"DIIMOD\",\"DIIERR\",\"DIITOL\",\"SOGTOL\",\"SODIIS\",\"DIONCE\",\"DEMCUT\",\n",
    "                 \"DMPCUT\",\"VTSCAL\",\"SCALF\",\"MAXVT\",\"VTCONV\",\"NCO\",\"NSETO\",\"NO\",\"NPAIR\",\n",
    "                  \"CICOEF\",\"COUPLE\",\"F\",\"ALPHA\",\"BETA\"]"
   ]
  },
  {
   "cell_type": "code",
   "execution_count": null,
   "metadata": {},
   "outputs": [],
   "source": []
  }
 ],
 "metadata": {
  "kernelspec": {
   "display_name": "Python 3",
   "language": "python",
   "name": "python3"
  },
  "language_info": {
   "codemirror_mode": {
    "name": "ipython",
    "version": 3
   },
   "file_extension": ".py",
   "mimetype": "text/x-python",
   "name": "python",
   "nbconvert_exporter": "python",
   "pygments_lexer": "ipython3",
   "version": "3.6.4"
  }
 },
 "nbformat": 4,
 "nbformat_minor": 2
}
