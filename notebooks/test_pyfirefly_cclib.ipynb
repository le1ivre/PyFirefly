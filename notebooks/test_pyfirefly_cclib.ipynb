{
 "cells": [
  {
   "cell_type": "code",
   "execution_count": null,
   "metadata": {},
   "outputs": [],
   "source": [
    "\n",
    "import pixiedust"
   ]
  },
  {
   "cell_type": "code",
   "execution_count": null,
   "metadata": {},
   "outputs": [],
   "source": [
    "import cclib\n",
    "import pyfirefly\n",
    "import pybel as pb\n",
    "from rdkit import Chem\n",
    "from rdkit.Chem import AllChem\n",
    "from rdkit.Chem import Draw\n",
    "import nglview as ng\n",
    "import os"
   ]
  },
  {
   "cell_type": "code",
   "execution_count": null,
   "metadata": {},
   "outputs": [],
   "source": [
    "from mayavi import mlab\n",
    "mlab.init_notebook()\n",
    "import orbkit"
   ]
  },
  {
   "cell_type": "code",
   "execution_count": null,
   "metadata": {},
   "outputs": [],
   "source": [
    "os.chdir(\"/home/akniga/NEB\")\n",
    "xyz = 'no+ani_init'\n",
    "#mol = next(pb.readfile(\"xyz\", xyz+\".xyz\"))\n",
    "#mol.write(\"pdb\", xyz+\".pdb\")\n",
    "mol = Chem.MolFromPDBFile(xyz+\".pdb\", sanitize=False)"
   ]
  },
  {
   "cell_type": "code",
   "execution_count": null,
   "metadata": {},
   "outputs": [],
   "source": [
    "view = ng.show_rdkit(mol)\n",
    "view"
   ]
  },
  {
   "cell_type": "code",
   "execution_count": null,
   "metadata": {},
   "outputs": [],
   "source": [
    "f = pyfirefly.Firefly(ase=True)\n",
    "\n",
    "f.set_runtyp(\"gradient\")\n",
    "f.set_basis()\n",
    "f.set_charge(1)\n",
    "f.set_mult(1)\n"
   ]
  },
  {
   "cell_type": "code",
   "execution_count": null,
   "metadata": {
    "pixiedust": {
     "displayParams": {}
    }
   },
   "outputs": [],
   "source": [
    "parser = cclib.io.ccopen(f.fireout)\n",
    "data = parser.parse()\n",
    "n = data.atomnos.tolist()\n",
    "c = data.atomcoords[-1].tolist()\n",
    "c"
   ]
  },
  {
   "cell_type": "code",
   "execution_count": null,
   "metadata": {
    "pixiedust": {
     "displayParams": {}
    }
   },
   "outputs": [],
   "source": [
    "#%%pixie_debugger\n",
    "f.run(mol)"
   ]
  },
  {
   "cell_type": "code",
   "execution_count": null,
   "metadata": {
    "pixiedust": {
     "displayParams": {}
    }
   },
   "outputs": [],
   "source": [
    "com = \"ulimit -s 4096 {0} && {0} -prealloc:485 -r -f -p -p4pg {1}/procgrp -i {2} -o {3} -t /tmp/{4} -b {1}{5}.lib\".format(f.firefly, str(f.firefly_path), str(f.firein), str(f.fireout), f.jobname, f.extfil)"
   ]
  },
  {
   "cell_type": "code",
   "execution_count": null,
   "metadata": {},
   "outputs": [],
   "source": [
    "from tempfile import mkdtemp\n",
    "import shutil\n",
    "import contextlib\n",
    "\n",
    "@contextlib.contextmanager\n",
    "def make_temp_directory():\n",
    "        f.tempdir = mkdtemp()\n",
    "        try:\n",
    "            yield f.tempdir\n",
    "        finally:\n",
    "            print(\"privet\")\n",
    "            #shutil.rmtree(f.tempdir)"
   ]
  },
  {
   "cell_type": "code",
   "execution_count": null,
   "metadata": {},
   "outputs": [],
   "source": [
    "com\n"
   ]
  },
  {
   "cell_type": "code",
   "execution_count": null,
   "metadata": {},
   "outputs": [],
   "source": [
    "\n",
    "\n",
    "with make_temp_directory() as t:\n",
    "    f.firein = f.tempdir + \"/{0}.inp\".format(f.jobname)\n",
    "    f.fireout = f.tempdir + \"/{0}.out\".format(f.jobname)\n",
    "    with open(f.firein, \"w+\") as d:\n",
    "            d.write(f.input(mol))\n",
    "            print(f.input(mol))"
   ]
  },
  {
   "cell_type": "code",
   "execution_count": null,
   "metadata": {
    "pixiedust": {
     "displayParams": {}
    }
   },
   "outputs": [],
   "source": [
    "import subprocess as sub\n",
    "com = \"ulimit -s 4096 {0} && {0} -prealloc:485 -r -f -p -p4pg {1}/procgrp -ex {1} -i {2} -o {3} -t /tmp/{4} -b {1}{5}.lib &\".format(f.firefly, str(f.firefly_path), str(f.firein), str(f.fireout), f.jobname, f.extfil)\n",
    "#p = sub.Popen(com, shell=True).wait() \n",
    "com"
   ]
  },
  {
   "cell_type": "code",
   "execution_count": null,
   "metadata": {},
   "outputs": [],
   "source": [
    "sub.run(\"cd ~/ && bash cleanipcs\", shell=True)"
   ]
  },
  {
   "cell_type": "code",
   "execution_count": null,
   "metadata": {},
   "outputs": [],
   "source": [
    "f.fireout"
   ]
  },
  {
   "cell_type": "code",
   "execution_count": null,
   "metadata": {},
   "outputs": [],
   "source": [
    "mo_list, mo_info = extras.calc_mo(qc,['3.1','1.1','2.3'],otype='mayavi',ofid='vis/mo')"
   ]
  },
  {
   "cell_type": "code",
   "execution_count": null,
   "metadata": {},
   "outputs": [],
   "source": [
    "qc.geo_info"
   ]
  },
  {
   "cell_type": "code",
   "execution_count": null,
   "metadata": {},
   "outputs": [],
   "source": [
    "p = sub.Popen(com, shell=True).wait() "
   ]
  },
  {
   "cell_type": "code",
   "execution_count": null,
   "metadata": {},
   "outputs": [],
   "source": [
    "f.firein"
   ]
  },
  {
   "cell_type": "code",
   "execution_count": null,
   "metadata": {},
   "outputs": [],
   "source": []
  }
 ],
 "metadata": {
  "kernelspec": {
   "display_name": "Python 3",
   "language": "python",
   "name": "python3"
  },
  "language_info": {
   "codemirror_mode": {
    "name": "ipython",
    "version": 3
   },
   "file_extension": ".py",
   "mimetype": "text/x-python",
   "name": "python",
   "nbconvert_exporter": "python",
   "pygments_lexer": "ipython3",
   "version": "3.6.6"
  }
 },
 "nbformat": 4,
 "nbformat_minor": 2
}
