{
 "cells": [
  {
   "cell_type": "code",
   "execution_count": null,
   "metadata": {},
   "outputs": [],
   "source": [
    "import pixiedust"
   ]
  },
  {
   "cell_type": "code",
   "execution_count": null,
   "metadata": {},
   "outputs": [],
   "source": [
    "from pyfirefly import Firefly as fire\n",
    "import os\n",
    "import importlib as imp\n",
    "import numpy as np\n",
    "\n",
    "import pubchempy as pcp\n",
    "from rdkit import Chem\n",
    "from rdkit.Chem import AllChem\n",
    "from rdkit.Chem import Draw\n",
    "import nglview as ng\n"
   ]
  },
  {
   "cell_type": "code",
   "execution_count": null,
   "metadata": {},
   "outputs": [],
   "source": [
    "grads = \"\"\"|\n",
    "                                 GRADIENT (HARTREE/BOHR)\n",
    "                                 -----------------------\n",
    "        ATOM     ZNUC       DE/DX         DE/DY         DE/DZ\n",
    " --------------------------------------------------------------\n",
    "  1  CARBON\t  6.0    -0.0027683     0.0001565     0.0011635\n",
    "  2  CARBON\t  6.0     0.0029300     0.0003457    -0.0014212\n",
    "  3  CARBON\t  6.0    -0.0012380    -0.0010740    -0.0028032\n",
    "  4  HYDROGEN     1.0     0.0005038     0.0011910    -0.0001542\n",
    "  5  HYDROGEN     1.0     0.0000003    -0.0005554    -0.0000796\n",
    "  6  CARBON\t  6.0     0.0031935     0.0023663     0.0027226\n",
    "  7  CARBON       6.0     0.0028612     0.0018941     0.0051980\n",
    "  8  HYDROGEN     1.0    -0.0007798    -0.0010152    -0.0004243\n",
    "  9  CARBON       6.0    -0.0015387    -0.0018414    -0.0064555\n",
    " 10  HYDROGEN     1.0     0.0004127    -0.0000162     0.0028433\n",
    " 11  HYDROGEN     1.0    -0.0006903    -0.0004186     0.0004552\n",
    " 12  NITROGEN     7.0    -0.0000161    -0.0012475    -0.0003315\n",
    " 13  HYDROGEN     1.0     0.0033031     0.0003793    -0.0031796\n",
    " 14  HYDROGEN     1.0    -0.0010434    -0.0024103    -0.0012234\n",
    " 15  OXYGEN\t  8.0    -0.0938356    -0.0221477     0.0109422\n",
    " 16  HYDROGEN     1.0    -0.0070337    -0.0001263     0.0099447\n",
    " 17  HYDROGEN     1.0    -0.0062162     0.0001601     0.0036048\n",
    " 18  NITROGEN     7.0    -0.0150606    -0.0045209     0.0029798\n",
    " 19  OXYGEN\t  8.0     0.0060701     0.0051000     0.0116852\n",
    " 20  OXYGEN\t  8.0     0.0883429     0.0196548    -0.0185480\n",
    " 21  HYDROGEN     1.0     0.0137328     0.0030723    -0.0039479\n",
    " 22  HYDROGEN     1.0     0.0088705     0.0010537    -0.0129707\n",
    "\n",
    "\"\"\""
   ]
  },
  {
   "cell_type": "code",
   "execution_count": null,
   "metadata": {
    "pixiedust": {
     "displayParams": {}
    }
   },
   "outputs": [],
   "source": [
    "%%pixie_debugger\n",
    "\n",
    "from cclib.parser import utils\n",
    "atomgrads = np.ndarray(shape=(1,1,3))\n",
    "n = 0\n",
    "for line in grads.splitlines():\n",
    "    temp = line.strip().split()\n",
    "    if line == \"                                 GRADIENT (HARTREE/BOHR)\":\n",
    "        while len(temp) != 0:\n",
    "            if len(temp) != 6:\n",
    "                continue\n",
    "            else:\n",
    "                atomgrads = np.append(atomgrads, [[[utils.convertor(float(x), \"Angstrom\", \"bohr\") for x in temp[3:6]]]], axis=1)\n",
    "\n",
    "\n",
    "            \n",
    "            \n"
   ]
  },
  {
   "cell_type": "code",
   "execution_count": null,
   "metadata": {},
   "outputs": [],
   "source": [
    "3"
   ]
  },
  {
   "cell_type": "code",
   "execution_count": null,
   "metadata": {},
   "outputs": [],
   "source": []
  }
 ],
 "metadata": {
  "kernelspec": {
   "display_name": "Python 3",
   "language": "python",
   "name": "python3"
  },
  "language_info": {
   "codemirror_mode": {
    "name": "ipython",
    "version": 3
   },
   "file_extension": ".py",
   "mimetype": "text/x-python",
   "name": "python",
   "nbconvert_exporter": "python",
   "pygments_lexer": "ipython3",
   "version": "3.6.4"
  }
 },
 "nbformat": 4,
 "nbformat_minor": 2
}
