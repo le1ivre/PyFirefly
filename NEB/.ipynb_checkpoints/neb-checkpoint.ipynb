{
 "cells": [
  {
   "cell_type": "code",
   "execution_count": null,
   "metadata": {},
   "outputs": [],
   "source": [
    "import pixiedust"
   ]
  },
  {
   "cell_type": "code",
   "execution_count": 1,
   "metadata": {},
   "outputs": [],
   "source": [
    "import os\n",
    "os.chdir(\"/home/akniga/firefly\")\n",
    "import cclib\n",
    "import pyfirefly\n",
    "\n",
    "from ase import Atoms\n",
    "from ase.io import *\n",
    "from ase.optimize import BFGS\n",
    "import ase.calculators.firefly as firefly\n",
    "from ase.io.trajectory import Trajectory\n",
    "from ase.optimize.fire import FIRE as QuasiNewton\n",
    "import numpy as np\n",
    "import nglview as ng\n",
    "\n",
    "import importlib as imp"
   ]
  },
  {
   "cell_type": "code",
   "execution_count": 2,
   "metadata": {},
   "outputs": [],
   "source": [
    "os.chdir(\"/home/akniga/NEB\")\n",
    "from ase import Atom\n",
    "import pybel as pb\n",
    "from rdkit import Chem\n",
    "from rdkit.Chem import AllChem\n",
    "from rdkit.Chem import Draw\n",
    "from rdkit.Chem.rdchem import Mol, Conformer"
   ]
  },
  {
   "cell_type": "code",
   "execution_count": 3,
   "metadata": {},
   "outputs": [],
   "source": [
    "from ase.build import molecule\n",
    "from ase.neb import NEB\n",
    "from ase import Atom"
   ]
  },
  {
   "cell_type": "code",
   "execution_count": 102,
   "metadata": {},
   "outputs": [
    {
     "data": {
      "application/vnd.jupyter.widget-view+json": {
       "model_id": "a043d717c6d24785a6410e99c067fe6d",
       "version_major": 2,
       "version_minor": 0
      },
      "text/html": [
       "<p>Failed to display Jupyter Widget of type <code>NGLWidget</code>.</p>\n",
       "<p>\n",
       "  If you're reading this message in the Jupyter Notebook or JupyterLab Notebook, it may mean\n",
       "  that the widgets JavaScript is still loading. If this message persists, it\n",
       "  likely means that the widgets JavaScript library is either not installed or\n",
       "  not enabled. See the <a href=\"https://ipywidgets.readthedocs.io/en/stable/user_install.html\">Jupyter\n",
       "  Widgets Documentation</a> for setup instructions.\n",
       "</p>\n",
       "<p>\n",
       "  If you're reading this message in another frontend (for example, a static\n",
       "  rendering on GitHub or <a href=\"https://nbviewer.jupyter.org/\">NBViewer</a>),\n",
       "  it may mean that your frontend doesn't currently support widgets.\n",
       "</p>\n"
      ],
      "text/plain": [
       "NGLWidget()"
      ]
     },
     "metadata": {},
     "output_type": "display_data"
    }
   ],
   "source": [
    "_1 = firefly.xyz_to_atoms(\"Ae_1.xyz\")\n",
    "view_1 = ng.show_ase(_1)\n",
    "view_1"
   ]
  },
  {
   "cell_type": "code",
   "execution_count": 138,
   "metadata": {},
   "outputs": [
    {
     "data": {
      "application/vnd.jupyter.widget-view+json": {
       "model_id": "e000b6c95bd04e46bef0dc49faa2a012",
       "version_major": 2,
       "version_minor": 0
      },
      "text/html": [
       "<p>Failed to display Jupyter Widget of type <code>NGLWidget</code>.</p>\n",
       "<p>\n",
       "  If you're reading this message in the Jupyter Notebook or JupyterLab Notebook, it may mean\n",
       "  that the widgets JavaScript is still loading. If this message persists, it\n",
       "  likely means that the widgets JavaScript library is either not installed or\n",
       "  not enabled. See the <a href=\"https://ipywidgets.readthedocs.io/en/stable/user_install.html\">Jupyter\n",
       "  Widgets Documentation</a> for setup instructions.\n",
       "</p>\n",
       "<p>\n",
       "  If you're reading this message in another frontend (for example, a static\n",
       "  rendering on GitHub or <a href=\"https://nbviewer.jupyter.org/\">NBViewer</a>),\n",
       "  it may mean that your frontend doesn't currently support widgets.\n",
       "</p>\n"
      ],
      "text/plain": [
       "NGLWidget()"
      ]
     },
     "metadata": {},
     "output_type": "display_data"
    }
   ],
   "source": [
    "_ts = firefly.xyz_to_atoms(\"tsguess.xyz\")\n",
    "view_1 = ng.show_ase(_ts)\n",
    "view_1"
   ]
  },
  {
   "cell_type": "code",
   "execution_count": 136,
   "metadata": {},
   "outputs": [
    {
     "data": {
      "text/plain": [
       "array([[0.        , 1.39156634, 1.40189313, 2.16120683, 2.16262581,\n",
       "        2.41890513, 2.43326397, 3.42162124, 2.81069886, 3.90378144,\n",
       "        1.09100367, 3.69506833, 4.47143307, 3.98751871, 4.61920211,\n",
       "        4.08174457],\n",
       "       [1.39156634, 0.        , 2.42128638, 1.09318692, 3.40758985,\n",
       "        1.4112246 , 2.81114097, 3.90215624, 2.4514027 , 3.44159178,\n",
       "        2.15184208, 2.4297009 , 3.309942  , 2.61293156, 3.51791383,\n",
       "        3.24160688],\n",
       "       [1.40189313, 2.42128638, 0.        , 3.41494803, 1.09138951,\n",
       "        2.78720724, 1.40183066, 2.16629945, 2.42095426, 3.41454155,\n",
       "        2.16604869, 4.18526422, 4.73897194, 4.73993952, 5.0796836 ,\n",
       "        4.44129754],\n",
       "       [2.16120683, 1.09318692, 3.41494803, 0.        , 4.31330057,\n",
       "        2.17764805, 3.90428389, 4.99529805, 3.4417144 , 4.34444407,\n",
       "        2.48494463, 2.66979846, 3.64091046, 2.4364154 , 3.62932656,\n",
       "        3.52352188],\n",
       "       [2.16262581, 3.40758985, 1.09138951, 4.31330057, 0.        ,\n",
       "        3.87856105, 2.16242364, 2.49225985, 3.40722892, 4.31283763,\n",
       "        2.49209611, 5.27664205, 5.81409623, 5.81516677, 6.09071906,\n",
       "        5.36841235],\n",
       "       [2.41890513, 1.4112246 , 2.78720724, 2.17764805, 3.87856105,\n",
       "        0.        , 2.41913327, 3.409522  , 1.41123697, 2.17750645,\n",
       "        3.40939078, 1.39896189, 2.0680883 , 2.06840116, 2.80787793,\n",
       "        2.72892082],\n",
       "       [2.43326397, 2.81114097, 1.40183066, 3.90428389, 2.16242364,\n",
       "        2.41913327, 0.        , 1.09103381, 1.39149745, 2.16096488,\n",
       "        3.42140349, 3.69471676, 3.9863999 , 4.47206171, 4.6166191 ,\n",
       "        4.07937865],\n",
       "       [3.42162124, 3.90215624, 2.16629945, 4.99529805, 2.49225985,\n",
       "        3.409522  , 1.09103381, 0.        , 2.15171419, 2.48451761,\n",
       "        4.32194172, 4.57705284, 4.70195762, 5.42228389, 5.39347732,\n",
       "        4.8290368 ],\n",
       "       [2.81069886, 2.4514027 , 2.42095426, 3.4417144 , 3.40722892,\n",
       "        1.41123697, 1.39149745, 2.15171419, 0.        , 1.09312878,\n",
       "        3.90168084, 2.42898699, 2.61184824, 3.30997668, 3.5146122 ,\n",
       "        3.23876728],\n",
       "       [3.90378144, 3.44159178, 3.41454155, 4.34444407, 4.31283763,\n",
       "        2.17750645, 2.16096488, 2.48451761, 1.09312878, 0.        ,\n",
       "        4.99476141, 2.66845258, 2.43487884, 3.64026884, 3.6235807 ,\n",
       "        3.51887539],\n",
       "       [1.09100367, 2.15184208, 2.16604869, 2.48494463, 2.49209611,\n",
       "        3.40939078, 3.42140349, 4.32194172, 3.90168084, 4.99476141,\n",
       "        0.        , 4.57781295, 5.42194137, 4.7035121 , 5.39779108,\n",
       "        4.83296029],\n",
       "       [3.69506833, 2.4297009 , 4.18526422, 2.66979846, 5.27664205,\n",
       "        1.39896189, 3.69471676, 4.57705284, 2.42898699, 2.66845258,\n",
       "        4.57781295, 0.        , 1.02255438, 1.02256403, 2.11847943,\n",
       "        2.61180508],\n",
       "       [4.47143307, 3.309942  , 4.73897194, 3.64091046, 5.81409623,\n",
       "        2.0680883 , 3.9863999 , 4.70195762, 2.61184824, 2.43487884,\n",
       "        5.42194137, 1.02255438, 0.        , 1.68526163, 2.55615385,\n",
       "        3.18411048],\n",
       "       [3.98751871, 2.61293156, 4.73993952, 2.4364154 , 5.81516677,\n",
       "        2.06840116, 4.47206171, 5.42228389, 3.30997668, 3.64026884,\n",
       "        4.7035121 , 1.02256403, 1.68526163, 0.        , 2.55664075,\n",
       "        3.18400845],\n",
       "       [4.61920211, 3.51791383, 5.0796836 , 3.62932656, 6.09071906,\n",
       "        2.80787793, 4.6166191 , 5.39347732, 3.5146122 , 3.6235807 ,\n",
       "        5.39779108, 2.11847943, 2.55615385, 2.55664075, 0.        ,\n",
       "        1.1152671 ],\n",
       "       [4.08174457, 3.24160688, 4.44129754, 3.52352188, 5.36841235,\n",
       "        2.72892082, 4.07937865, 4.8290368 , 3.23876728, 3.51887539,\n",
       "        4.83296029, 2.61180508, 3.18411048, 3.18400845, 1.1152671 ,\n",
       "        0.        ]])"
      ]
     },
     "execution_count": 136,
     "metadata": {},
     "output_type": "execute_result"
    }
   ],
   "source": [
    "_1.get_all_distances()"
   ]
  },
  {
   "cell_type": "code",
   "execution_count": 99,
   "metadata": {},
   "outputs": [
    {
     "data": {
      "application/vnd.jupyter.widget-view+json": {
       "model_id": "aa52ef6219c14ff7a78e85ab048d4c60",
       "version_major": 2,
       "version_minor": 0
      },
      "text/html": [
       "<p>Failed to display Jupyter Widget of type <code>NGLWidget</code>.</p>\n",
       "<p>\n",
       "  If you're reading this message in the Jupyter Notebook or JupyterLab Notebook, it may mean\n",
       "  that the widgets JavaScript is still loading. If this message persists, it\n",
       "  likely means that the widgets JavaScript library is either not installed or\n",
       "  not enabled. See the <a href=\"https://ipywidgets.readthedocs.io/en/stable/user_install.html\">Jupyter\n",
       "  Widgets Documentation</a> for setup instructions.\n",
       "</p>\n",
       "<p>\n",
       "  If you're reading this message in another frontend (for example, a static\n",
       "  rendering on GitHub or <a href=\"https://nbviewer.jupyter.org/\">NBViewer</a>),\n",
       "  it may mean that your frontend doesn't currently support widgets.\n",
       "</p>\n"
      ],
      "text/plain": [
       "NGLWidget()"
      ]
     },
     "metadata": {},
     "output_type": "display_data"
    }
   ],
   "source": [
    "new_cont = Trajectory(\"opt_nitrosamine.traj\")\n",
    "_10 = new_cont[-1]\n",
    "view_10 = ng.show_ase(_10)\n",
    "view_10"
   ]
  },
  {
   "cell_type": "code",
   "execution_count": null,
   "metadata": {},
   "outputs": [],
   "source": [
    "os.chdir(\"/home/akniga/firefly\")\n",
    "imp.reload(pyfirefly)"
   ]
  },
  {
   "cell_type": "code",
   "execution_count": 101,
   "metadata": {},
   "outputs": [],
   "source": [
    "mol_1 = firefly.ase_atoms_to_rdkit_molecule(_1, sanitize=False)\n",
    "mol_10 = firefly.ase_atoms_to_rdkit_molecule(_10)\n",
    "view_1 = ng.show_rdkit(mol_1)\n",
    "view_10 = ng.show_rdkit(mol_10)"
   ]
  },
  {
   "cell_type": "code",
   "execution_count": 106,
   "metadata": {},
   "outputs": [
    {
     "name": "stdout",
     "output_type": "stream",
     "text": [
      "\n",
      "     RDKit          3D\n",
      "\n",
      " 16 15  0  0  0  0  0  0  0  0999 V2000\n",
      "   -0.5923   -0.3638   -5.8876 C   0  0  0  0  0  0  0  0  0  0  0  0\n",
      "   -1.7545   -0.7971   -5.2568 C   0  0  0  0  0  0  0  0  0  0  0  0\n",
      "    0.3682    0.3646   -5.1720 C   0  0  0  0  0  0  0  0  0  0  0  0\n",
      "   -2.5009   -1.3747   -5.8085 H   0  0  0  0  0  0  0  0  0  0  0  0\n",
      "    1.2794    0.6979   -5.6717 H   0  0  0  0  0  0  0  0  0  0  0  0\n",
      "   -1.9466   -0.5091   -3.8887 C   0  0  0  0  0  0  0  0  0  0  0  0\n",
      "    0.1665    0.6664   -3.8179 C   0  0  0  0  0  0  0  0  0  0  0  0\n",
      "    0.9172    1.2326   -3.2646 H   0  0  0  0  0  0  0  0  0  0  0  0\n",
      "   -0.9898    0.2405   -3.1716 C   0  0  0  0  0  0  0  0  0  0  0  0\n",
      "   -1.1457    0.4640   -2.1130 H   0  0  0  0  0  0  0  0  0  0  0  0\n",
      "   -0.4300   -0.5974   -6.9409 H   0  0  0  0  0  0  0  0  0  0  0  0\n",
      "   -3.1355   -0.8945   -3.2601 N   0  0  0  0  0  0  0  0  0  0  0  0\n",
      "   -3.1071   -0.9731   -2.2410 H   0  0  0  0  0  0  0  0  0  0  0  0\n",
      "   -3.6349   -1.6847   -3.6746 H   0  0  0  0  0  0  0  0  0  0  0  0\n",
      "   -4.4438    0.7391   -3.5885 N   0  0  0  0  0  0  0  0  0  0  0  0\n",
      "   -3.8202    1.4544   -4.1743 O   0  0  0  0  0  0  0  0  0  0  0  0\n",
      "  2  1  1  0\n",
      "  3  1  1  0\n",
      "  4  2  1  0\n",
      "  5  3  1  0\n",
      "  6  2  1  0\n",
      "  7  3  1  0\n",
      "  8  7  1  0\n",
      "  9  7  1  0\n",
      "  9  6  1  0\n",
      " 10  9  1  0\n",
      " 11  1  1  0\n",
      " 12  6  1  0\n",
      " 13 12  1  0\n",
      " 14 12  1  0\n",
      " 16 15  1  0\n",
      "M  END\n",
      "\n"
     ]
    }
   ],
   "source": [
    "mol_1\n",
    "print(Chem.MolToMolBlock(mol_1))"
   ]
  },
  {
   "cell_type": "code",
   "execution_count": 89,
   "metadata": {},
   "outputs": [
    {
     "ename": "ValueError",
     "evalue": "sequence does not support length query",
     "output_type": "error",
     "traceback": [
      "\u001b[0;31m---------------------------------------------------------------------------\u001b[0m",
      "\u001b[0;31mValueError\u001b[0m                                Traceback (most recent call last)",
      "\u001b[0;32m<ipython-input-89-845a9722b55a>\u001b[0m in \u001b[0;36m<module>\u001b[0;34m()\u001b[0m\n\u001b[1;32m      4\u001b[0m \u001b[0;31m#print(mol_1.GetNumAtoms())\u001b[0m\u001b[0;34m\u001b[0m\u001b[0;34m\u001b[0m\u001b[0m\n\u001b[1;32m      5\u001b[0m \u001b[0;31m#a = Chem.MolToSmiles(mol_1)\u001b[0m\u001b[0;34m\u001b[0m\u001b[0;34m\u001b[0m\u001b[0m\n\u001b[0;32m----> 6\u001b[0;31m \u001b[0mrms\u001b[0m \u001b[0;34m=\u001b[0m \u001b[0mChem\u001b[0m\u001b[0;34m.\u001b[0m\u001b[0mrdMolAlign\u001b[0m\u001b[0;34m.\u001b[0m\u001b[0mAlignMol\u001b[0m\u001b[0;34m(\u001b[0m\u001b[0mmol_1\u001b[0m\u001b[0;34m,\u001b[0m\u001b[0mmol_10\u001b[0m\u001b[0;34m,\u001b[0m \u001b[0matomMap\u001b[0m\u001b[0;34m=\u001b[0m\u001b[0mzip\u001b[0m\u001b[0;34m(\u001b[0m\u001b[0mrange\u001b[0m\u001b[0;34m(\u001b[0m\u001b[0mmol_1\u001b[0m\u001b[0;34m.\u001b[0m\u001b[0mGetNumAtoms\u001b[0m\u001b[0;34m(\u001b[0m\u001b[0;34m)\u001b[0m\u001b[0;34m)\u001b[0m\u001b[0;34m,\u001b[0m\u001b[0mrange\u001b[0m\u001b[0;34m(\u001b[0m\u001b[0mmol_10\u001b[0m\u001b[0;34m.\u001b[0m\u001b[0mGetNumAtoms\u001b[0m\u001b[0;34m(\u001b[0m\u001b[0;34m)\u001b[0m\u001b[0;34m)\u001b[0m\u001b[0;34m)\u001b[0m\u001b[0;34m)\u001b[0m\u001b[0;34m\u001b[0m\u001b[0m\n\u001b[0m",
      "\u001b[0;31mValueError\u001b[0m: sequence does not support length query"
     ]
    }
   ],
   "source": [
    "num = mol_1.GetNumConformers()\n",
    "conf = mol_1.GetConformer()\n",
    "#print(conf.GetPositions())\n",
    "#print(mol_1.GetNumAtoms())\n",
    "#a = Chem.MolToSmiles(mol_1)\n",
    "rms = Chem.rdMolAlign.AlignMol(mol_1,mol_10, atomMap=zip(range(mol_1.GetNumAtoms()),range(mol_10.GetNumAtoms())))"
   ]
  },
  {
   "cell_type": "code",
   "execution_count": 88,
   "metadata": {},
   "outputs": [
    {
     "data": {
      "text/plain": [
       "16"
      ]
     },
     "execution_count": 88,
     "metadata": {},
     "output_type": "execute_result"
    }
   ],
   "source": [
    "mol_1.GetNumAtoms()"
   ]
  },
  {
   "cell_type": "code",
   "execution_count": null,
   "metadata": {},
   "outputs": [],
   "source": [
    "for i in "
   ]
  },
  {
   "cell_type": "code",
   "execution_count": null,
   "metadata": {},
   "outputs": [],
   "source": [
    "_1.write(\"_1.pdb\", \"proteindatabank\")\n"
   ]
  },
  {
   "cell_type": "code",
   "execution_count": null,
   "metadata": {},
   "outputs": [],
   "source": [
    "mol1 = Chem.AddHs(mol_1)\n",
    "AllChem.Compute2DCoords(mol_1)\n",
    "from rdkit.Chem import Draw\n",
    "Draw.MolToFile(mol_10,'_1.png')\n",
    "\n",
    "\n",
    "from IPython.display import Image\n",
    "Image(\"./_1.png\")\n"
   ]
  },
  {
   "cell_type": "code",
   "execution_count": null,
   "metadata": {},
   "outputs": [],
   "source": []
  },
  {
   "cell_type": "code",
   "execution_count": null,
   "metadata": {},
   "outputs": [],
   "source": [
    "mol = Chem.MolFromPDBFile(\"_1.pdb\", sanitize=True)"
   ]
  },
  {
   "cell_type": "code",
   "execution_count": null,
   "metadata": {},
   "outputs": [],
   "source": [
    "print(Chem.MolToMolBlock(mol_1))"
   ]
  },
  {
   "cell_type": "code",
   "execution_count": null,
   "metadata": {},
   "outputs": [],
   "source": [
    "m1 = Chem.AddHs(mol_1)"
   ]
  },
  {
   "cell_type": "code",
   "execution_count": null,
   "metadata": {},
   "outputs": [],
   "source": [
    "for atom in mol_1.GetAtoms():\n",
    "    print(atom.GetAtomicNum())"
   ]
  },
  {
   "cell_type": "code",
   "execution_count": null,
   "metadata": {},
   "outputs": [],
   "source": [
    "print(Chem.rdmolfiles.MolToMolBlock(mol1))"
   ]
  },
  {
   "cell_type": "code",
   "execution_count": null,
   "metadata": {},
   "outputs": [],
   "source": [
    "import pybel as pb\n",
    "\n",
    "mol1 = next(pb.readfile(\"xyz\", \"Ae_1_1.xyz\"))\n",
    "mol2 = next(pb.readfile(\"xyz\", \"Ae_10.xyz\"))"
   ]
  },
  {
   "cell_type": "code",
   "execution_count": null,
   "metadata": {},
   "outputs": [],
   "source": [
    "print(mol2.write(\"pdb\"))"
   ]
  },
  {
   "cell_type": "code",
   "execution_count": null,
   "metadata": {},
   "outputs": [],
   "source": [
    "from rdkit.Chem import AllChem, rdMolAlign\n",
    "rms = rdMolAlign.AlignMol(mol1,mol10)"
   ]
  },
  {
   "cell_type": "code",
   "execution_count": 128,
   "metadata": {},
   "outputs": [],
   "source": [
    "#Generate blank images\n",
    "images = [_1]\n",
    "\n",
    "for i in range(100):\n",
    "    images.append(_1.copy())\n",
    "\n",
    "options = {\"MULT\":\"1\",\"ICHARG\":\"1\"}\n",
    "    \n",
    "for image in images:\n",
    "    image.set_calculator(firefly.Firefly(firefly.ase_atoms_to_rdkit_molecule(image), **options))\n",
    "\n",
    "images.append(_10)\n",
    "\n",
    "#Run IDPP interpolation\n",
    "neb = NEB(images, remove_rotation_and_translation=True)\n",
    "neb.interpolate(\"idpp\")\n",
    "\n",
    "#Run NEB calculation\n",
    "#qn = QuasiNewton(neb, trajectory='Ae_idpp.traj',  logfile='Ae_idpp.log')\n",
    "#qn.run(fmax=0.05)"
   ]
  },
  {
   "cell_type": "code",
   "execution_count": null,
   "metadata": {
    "scrolled": true
   },
   "outputs": [],
   "source": [
    "\n",
    "import cclib\n",
    "\n",
    "filename = \"/home/akniga/chro/Diazotization/scan1/scan1.out\"\n",
    "data = cclib.io.ccread(filename)\n",
    "print(\"There are %i atoms and %i MOs\" % (data.natom, data.nmo))"
   ]
  },
  {
   "cell_type": "code",
   "execution_count": null,
   "metadata": {},
   "outputs": [],
   "source": [
    "images[]"
   ]
  },
  {
   "cell_type": "code",
   "execution_count": 134,
   "metadata": {},
   "outputs": [
    {
     "data": {
      "application/vnd.jupyter.widget-view+json": {
       "model_id": "422403cdf5d846638a7bf9144db3587c",
       "version_major": 2,
       "version_minor": 0
      },
      "text/html": [
       "<p>Failed to display Jupyter Widget of type <code>NGLWidget</code>.</p>\n",
       "<p>\n",
       "  If you're reading this message in the Jupyter Notebook or JupyterLab Notebook, it may mean\n",
       "  that the widgets JavaScript is still loading. If this message persists, it\n",
       "  likely means that the widgets JavaScript library is either not installed or\n",
       "  not enabled. See the <a href=\"https://ipywidgets.readthedocs.io/en/stable/user_install.html\">Jupyter\n",
       "  Widgets Documentation</a> for setup instructions.\n",
       "</p>\n",
       "<p>\n",
       "  If you're reading this message in another frontend (for example, a static\n",
       "  rendering on GitHub or <a href=\"https://nbviewer.jupyter.org/\">NBViewer</a>),\n",
       "  it may mean that your frontend doesn't currently support widgets.\n",
       "</p>\n"
      ],
      "text/plain": [
       "NGLWidget()"
      ]
     },
     "metadata": {},
     "output_type": "display_data"
    }
   ],
   "source": [
    "fuck = ng.show_ase(images[32])\n",
    "fuck"
   ]
  },
  {
   "cell_type": "code",
   "execution_count": null,
   "metadata": {},
   "outputs": [],
   "source": [
    "for key, value in i.items():\n",
    "    if str(value).isdigit():\n",
    "        print(\"YA\")"
   ]
  },
  {
   "cell_type": "code",
   "execution_count": null,
   "metadata": {},
   "outputs": [],
   "source": [
    "i.get(\"a\")"
   ]
  },
  {
   "cell_type": "code",
   "execution_count": null,
   "metadata": {},
   "outputs": [],
   "source": [
    "for i in i.keys():\n",
    "    print(i)"
   ]
  },
  {
   "cell_type": "code",
   "execution_count": null,
   "metadata": {},
   "outputs": [],
   "source": []
  }
 ],
 "metadata": {
  "kernelspec": {
   "display_name": "Python 3",
   "language": "python",
   "name": "python3"
  },
  "language_info": {
   "codemirror_mode": {
    "name": "ipython",
    "version": 3
   },
   "file_extension": ".py",
   "mimetype": "text/x-python",
   "name": "python",
   "nbconvert_exporter": "python",
   "pygments_lexer": "ipython3",
   "version": "3.6.4"
  }
 },
 "nbformat": 4,
 "nbformat_minor": 2
}
